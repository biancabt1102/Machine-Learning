{
  "cells": [
    {
      "cell_type": "markdown",
      "metadata": {
        "id": "bipdGJp1dJkL"
      },
      "source": [
        "# Integrantes do grupo da GS\n",
        "\n",
        "- Andressa Vitória **RM93995**\n",
        "- Bianca Teixeira **RM92831**\n",
        "- Jefferson de Andrade **RM96236**\n",
        "- Kamilla Lima **RM96112**\n",
        "- Vinicius Souza **RM96188**"
      ]
    },
    {
      "cell_type": "code",
      "execution_count": 1,
      "metadata": {
        "id": "a-Mm0e_odGqt"
      },
      "outputs": [],
      "source": [
        "# Fazer os imports\n",
        "\n",
        "import pandas as pd\n",
        "\n",
        "# gráficos\n",
        "import seaborn as sns\n",
        "import matplotlib.pyplot as plt\n",
        "\n",
        "# Avaliar os algoritmos\n",
        "from sklearn.metrics import classification_report\n",
        "\n",
        "# Splitar os dados\n",
        "from sklearn.model_selection import train_test_split\n",
        "from sklearn.metrics import confusion_matrix, ConfusionMatrixDisplay, plot_confusion_matrix\n",
        "from sklearn.metrics import f1_score, accuracy_score, precision_score, recall_score, classification_report"
      ]
    },
    {
      "cell_type": "markdown",
      "source": [
        "## ML de classificação"
      ],
      "metadata": {
        "id": "Gb6rMgCcX1OO"
      }
    },
    {
      "cell_type": "markdown",
      "metadata": {
        "id": "dVf-3TGedkFp"
      },
      "source": [
        "## Análise Exploratória do \"sensor_readings_24.csv\"\n",
        "\n",
        "- contendo filtragem de valores vazios e \n",
        "outliers, estatísticas básicas, e gráficos"
      ]
    },
    {
      "cell_type": "code",
      "execution_count": 56,
      "metadata": {
        "colab": {
          "base_uri": "https://localhost:8080/",
          "height": 386
        },
        "id": "pP2-xzAsdgMc",
        "outputId": "ad431593-05f7-4418-842a-3e6d66df8d0b"
      },
      "outputs": [
        {
          "output_type": "execute_result",
          "data": {
            "text/plain": [
              "   sensor_1  sensor_2  sensor_3  sensor_4  sensor_5  sensor_6  sensor_7  \\\n",
              "0     0.438     0.498     3.625     3.645       5.0     2.918       5.0   \n",
              "1     0.438     0.498     3.625     3.648       5.0     2.918       5.0   \n",
              "2     0.438     0.498     3.625     3.629       5.0     2.918       5.0   \n",
              "3     0.437     0.501     3.625     3.626       5.0     2.918       5.0   \n",
              "4     0.438     0.498     3.626     3.629       5.0     2.918       5.0   \n",
              "\n",
              "   sensor_8  sensor_9  sensor_10  ...  sensor_16  sensor_17  sensor_18  \\\n",
              "0     2.351     2.332      2.643  ...      0.593      0.502      0.493   \n",
              "1     2.637     2.332      2.649  ...      0.592      0.502      0.493   \n",
              "2     2.637     2.334      2.643  ...      0.593      0.502      0.493   \n",
              "3     2.353     2.334      2.642  ...      0.593      0.502      0.493   \n",
              "4     2.640     2.334      2.639  ...      0.592      0.502      0.493   \n",
              "\n",
              "   sensor_19  sensor_20  sensor_21  sensor_22  sensor_23  sensor_24  \\\n",
              "0      0.504      0.445      0.431      0.444      0.440      0.429   \n",
              "1      0.504      0.449      0.431      0.444      0.443      0.429   \n",
              "2      0.504      0.449      0.431      0.444      0.446      0.429   \n",
              "3      0.504      0.449      0.431      0.444      0.444      0.429   \n",
              "4      0.504      0.449      0.431      0.444      0.441      0.429   \n",
              "\n",
              "         funcao_robo  \n",
              "0  Slight-Right-Turn  \n",
              "1  Slight-Right-Turn  \n",
              "2  Slight-Right-Turn  \n",
              "3  Slight-Right-Turn  \n",
              "4  Slight-Right-Turn  \n",
              "\n",
              "[5 rows x 25 columns]"
            ],
            "text/html": [
              "\n",
              "  <div id=\"df-5ae214ff-585d-46bc-86da-6adbc86a7f99\">\n",
              "    <div class=\"colab-df-container\">\n",
              "      <div>\n",
              "<style scoped>\n",
              "    .dataframe tbody tr th:only-of-type {\n",
              "        vertical-align: middle;\n",
              "    }\n",
              "\n",
              "    .dataframe tbody tr th {\n",
              "        vertical-align: top;\n",
              "    }\n",
              "\n",
              "    .dataframe thead th {\n",
              "        text-align: right;\n",
              "    }\n",
              "</style>\n",
              "<table border=\"1\" class=\"dataframe\">\n",
              "  <thead>\n",
              "    <tr style=\"text-align: right;\">\n",
              "      <th></th>\n",
              "      <th>sensor_1</th>\n",
              "      <th>sensor_2</th>\n",
              "      <th>sensor_3</th>\n",
              "      <th>sensor_4</th>\n",
              "      <th>sensor_5</th>\n",
              "      <th>sensor_6</th>\n",
              "      <th>sensor_7</th>\n",
              "      <th>sensor_8</th>\n",
              "      <th>sensor_9</th>\n",
              "      <th>sensor_10</th>\n",
              "      <th>...</th>\n",
              "      <th>sensor_16</th>\n",
              "      <th>sensor_17</th>\n",
              "      <th>sensor_18</th>\n",
              "      <th>sensor_19</th>\n",
              "      <th>sensor_20</th>\n",
              "      <th>sensor_21</th>\n",
              "      <th>sensor_22</th>\n",
              "      <th>sensor_23</th>\n",
              "      <th>sensor_24</th>\n",
              "      <th>funcao_robo</th>\n",
              "    </tr>\n",
              "  </thead>\n",
              "  <tbody>\n",
              "    <tr>\n",
              "      <th>0</th>\n",
              "      <td>0.438</td>\n",
              "      <td>0.498</td>\n",
              "      <td>3.625</td>\n",
              "      <td>3.645</td>\n",
              "      <td>5.0</td>\n",
              "      <td>2.918</td>\n",
              "      <td>5.0</td>\n",
              "      <td>2.351</td>\n",
              "      <td>2.332</td>\n",
              "      <td>2.643</td>\n",
              "      <td>...</td>\n",
              "      <td>0.593</td>\n",
              "      <td>0.502</td>\n",
              "      <td>0.493</td>\n",
              "      <td>0.504</td>\n",
              "      <td>0.445</td>\n",
              "      <td>0.431</td>\n",
              "      <td>0.444</td>\n",
              "      <td>0.440</td>\n",
              "      <td>0.429</td>\n",
              "      <td>Slight-Right-Turn</td>\n",
              "    </tr>\n",
              "    <tr>\n",
              "      <th>1</th>\n",
              "      <td>0.438</td>\n",
              "      <td>0.498</td>\n",
              "      <td>3.625</td>\n",
              "      <td>3.648</td>\n",
              "      <td>5.0</td>\n",
              "      <td>2.918</td>\n",
              "      <td>5.0</td>\n",
              "      <td>2.637</td>\n",
              "      <td>2.332</td>\n",
              "      <td>2.649</td>\n",
              "      <td>...</td>\n",
              "      <td>0.592</td>\n",
              "      <td>0.502</td>\n",
              "      <td>0.493</td>\n",
              "      <td>0.504</td>\n",
              "      <td>0.449</td>\n",
              "      <td>0.431</td>\n",
              "      <td>0.444</td>\n",
              "      <td>0.443</td>\n",
              "      <td>0.429</td>\n",
              "      <td>Slight-Right-Turn</td>\n",
              "    </tr>\n",
              "    <tr>\n",
              "      <th>2</th>\n",
              "      <td>0.438</td>\n",
              "      <td>0.498</td>\n",
              "      <td>3.625</td>\n",
              "      <td>3.629</td>\n",
              "      <td>5.0</td>\n",
              "      <td>2.918</td>\n",
              "      <td>5.0</td>\n",
              "      <td>2.637</td>\n",
              "      <td>2.334</td>\n",
              "      <td>2.643</td>\n",
              "      <td>...</td>\n",
              "      <td>0.593</td>\n",
              "      <td>0.502</td>\n",
              "      <td>0.493</td>\n",
              "      <td>0.504</td>\n",
              "      <td>0.449</td>\n",
              "      <td>0.431</td>\n",
              "      <td>0.444</td>\n",
              "      <td>0.446</td>\n",
              "      <td>0.429</td>\n",
              "      <td>Slight-Right-Turn</td>\n",
              "    </tr>\n",
              "    <tr>\n",
              "      <th>3</th>\n",
              "      <td>0.437</td>\n",
              "      <td>0.501</td>\n",
              "      <td>3.625</td>\n",
              "      <td>3.626</td>\n",
              "      <td>5.0</td>\n",
              "      <td>2.918</td>\n",
              "      <td>5.0</td>\n",
              "      <td>2.353</td>\n",
              "      <td>2.334</td>\n",
              "      <td>2.642</td>\n",
              "      <td>...</td>\n",
              "      <td>0.593</td>\n",
              "      <td>0.502</td>\n",
              "      <td>0.493</td>\n",
              "      <td>0.504</td>\n",
              "      <td>0.449</td>\n",
              "      <td>0.431</td>\n",
              "      <td>0.444</td>\n",
              "      <td>0.444</td>\n",
              "      <td>0.429</td>\n",
              "      <td>Slight-Right-Turn</td>\n",
              "    </tr>\n",
              "    <tr>\n",
              "      <th>4</th>\n",
              "      <td>0.438</td>\n",
              "      <td>0.498</td>\n",
              "      <td>3.626</td>\n",
              "      <td>3.629</td>\n",
              "      <td>5.0</td>\n",
              "      <td>2.918</td>\n",
              "      <td>5.0</td>\n",
              "      <td>2.640</td>\n",
              "      <td>2.334</td>\n",
              "      <td>2.639</td>\n",
              "      <td>...</td>\n",
              "      <td>0.592</td>\n",
              "      <td>0.502</td>\n",
              "      <td>0.493</td>\n",
              "      <td>0.504</td>\n",
              "      <td>0.449</td>\n",
              "      <td>0.431</td>\n",
              "      <td>0.444</td>\n",
              "      <td>0.441</td>\n",
              "      <td>0.429</td>\n",
              "      <td>Slight-Right-Turn</td>\n",
              "    </tr>\n",
              "  </tbody>\n",
              "</table>\n",
              "<p>5 rows × 25 columns</p>\n",
              "</div>\n",
              "      <button class=\"colab-df-convert\" onclick=\"convertToInteractive('df-5ae214ff-585d-46bc-86da-6adbc86a7f99')\"\n",
              "              title=\"Convert this dataframe to an interactive table.\"\n",
              "              style=\"display:none;\">\n",
              "        \n",
              "  <svg xmlns=\"http://www.w3.org/2000/svg\" height=\"24px\"viewBox=\"0 0 24 24\"\n",
              "       width=\"24px\">\n",
              "    <path d=\"M0 0h24v24H0V0z\" fill=\"none\"/>\n",
              "    <path d=\"M18.56 5.44l.94 2.06.94-2.06 2.06-.94-2.06-.94-.94-2.06-.94 2.06-2.06.94zm-11 1L8.5 8.5l.94-2.06 2.06-.94-2.06-.94L8.5 2.5l-.94 2.06-2.06.94zm10 10l.94 2.06.94-2.06 2.06-.94-2.06-.94-.94-2.06-.94 2.06-2.06.94z\"/><path d=\"M17.41 7.96l-1.37-1.37c-.4-.4-.92-.59-1.43-.59-.52 0-1.04.2-1.43.59L10.3 9.45l-7.72 7.72c-.78.78-.78 2.05 0 2.83L4 21.41c.39.39.9.59 1.41.59.51 0 1.02-.2 1.41-.59l7.78-7.78 2.81-2.81c.8-.78.8-2.07 0-2.86zM5.41 20L4 18.59l7.72-7.72 1.47 1.35L5.41 20z\"/>\n",
              "  </svg>\n",
              "      </button>\n",
              "      \n",
              "  <style>\n",
              "    .colab-df-container {\n",
              "      display:flex;\n",
              "      flex-wrap:wrap;\n",
              "      gap: 12px;\n",
              "    }\n",
              "\n",
              "    .colab-df-convert {\n",
              "      background-color: #E8F0FE;\n",
              "      border: none;\n",
              "      border-radius: 50%;\n",
              "      cursor: pointer;\n",
              "      display: none;\n",
              "      fill: #1967D2;\n",
              "      height: 32px;\n",
              "      padding: 0 0 0 0;\n",
              "      width: 32px;\n",
              "    }\n",
              "\n",
              "    .colab-df-convert:hover {\n",
              "      background-color: #E2EBFA;\n",
              "      box-shadow: 0px 1px 2px rgba(60, 64, 67, 0.3), 0px 1px 3px 1px rgba(60, 64, 67, 0.15);\n",
              "      fill: #174EA6;\n",
              "    }\n",
              "\n",
              "    [theme=dark] .colab-df-convert {\n",
              "      background-color: #3B4455;\n",
              "      fill: #D2E3FC;\n",
              "    }\n",
              "\n",
              "    [theme=dark] .colab-df-convert:hover {\n",
              "      background-color: #434B5C;\n",
              "      box-shadow: 0px 1px 3px 1px rgba(0, 0, 0, 0.15);\n",
              "      filter: drop-shadow(0px 1px 2px rgba(0, 0, 0, 0.3));\n",
              "      fill: #FFFFFF;\n",
              "    }\n",
              "  </style>\n",
              "\n",
              "      <script>\n",
              "        const buttonEl =\n",
              "          document.querySelector('#df-5ae214ff-585d-46bc-86da-6adbc86a7f99 button.colab-df-convert');\n",
              "        buttonEl.style.display =\n",
              "          google.colab.kernel.accessAllowed ? 'block' : 'none';\n",
              "\n",
              "        async function convertToInteractive(key) {\n",
              "          const element = document.querySelector('#df-5ae214ff-585d-46bc-86da-6adbc86a7f99');\n",
              "          const dataTable =\n",
              "            await google.colab.kernel.invokeFunction('convertToInteractive',\n",
              "                                                     [key], {});\n",
              "          if (!dataTable) return;\n",
              "\n",
              "          const docLinkHtml = 'Like what you see? Visit the ' +\n",
              "            '<a target=\"_blank\" href=https://colab.research.google.com/notebooks/data_table.ipynb>data table notebook</a>'\n",
              "            + ' to learn more about interactive tables.';\n",
              "          element.innerHTML = '';\n",
              "          dataTable['output_type'] = 'display_data';\n",
              "          await google.colab.output.renderOutput(dataTable, element);\n",
              "          const docLink = document.createElement('div');\n",
              "          docLink.innerHTML = docLinkHtml;\n",
              "          element.appendChild(docLink);\n",
              "        }\n",
              "      </script>\n",
              "    </div>\n",
              "  </div>\n",
              "  "
            ]
          },
          "metadata": {},
          "execution_count": 56
        }
      ],
      "source": [
        "dados = pd.read_csv(\"sensor_readings_24.csv\", sep=\",\")\n",
        "dados.head()"
      ]
    },
    {
      "cell_type": "markdown",
      "metadata": {
        "id": "2wq-064Fd0yL"
      },
      "source": [
        "## Tratamento dados faltantes e identificação de outliers"
      ]
    },
    {
      "cell_type": "code",
      "execution_count": 57,
      "metadata": {
        "colab": {
          "base_uri": "https://localhost:8080/"
        },
        "id": "TRr1foRJmkoQ",
        "outputId": "e5bc957e-a033-4e81-ee8c-cc46c494638f"
      },
      "outputs": [
        {
          "output_type": "stream",
          "name": "stdout",
          "text": [
            "<class 'pandas.core.frame.DataFrame'>\n",
            "RangeIndex: 5456 entries, 0 to 5455\n",
            "Data columns (total 25 columns):\n",
            " #   Column       Non-Null Count  Dtype  \n",
            "---  ------       --------------  -----  \n",
            " 0   sensor_1     5442 non-null   float64\n",
            " 1   sensor_2     5442 non-null   float64\n",
            " 2   sensor_3     5442 non-null   float64\n",
            " 3   sensor_4     5442 non-null   float64\n",
            " 4   sensor_5     5442 non-null   float64\n",
            " 5   sensor_6     5442 non-null   float64\n",
            " 6   sensor_7     5442 non-null   float64\n",
            " 7   sensor_8     5442 non-null   float64\n",
            " 8   sensor_9     5442 non-null   float64\n",
            " 9   sensor_10    5442 non-null   float64\n",
            " 10  sensor_11    5442 non-null   float64\n",
            " 11  sensor_12    5442 non-null   float64\n",
            " 12  sensor_13    5442 non-null   float64\n",
            " 13  sensor_14    5442 non-null   float64\n",
            " 14  sensor_15    5442 non-null   float64\n",
            " 15  sensor_16    5442 non-null   float64\n",
            " 16  sensor_17    5442 non-null   float64\n",
            " 17  sensor_18    5442 non-null   float64\n",
            " 18  sensor_19    5442 non-null   float64\n",
            " 19  sensor_20    5442 non-null   float64\n",
            " 20  sensor_21    5442 non-null   float64\n",
            " 21  sensor_22    5442 non-null   float64\n",
            " 22  sensor_23    5442 non-null   float64\n",
            " 23  sensor_24    5442 non-null   float64\n",
            " 24  funcao_robo  5442 non-null   object \n",
            "dtypes: float64(24), object(1)\n",
            "memory usage: 1.0+ MB\n"
          ]
        }
      ],
      "source": [
        "dados.info()"
      ]
    },
    {
      "cell_type": "code",
      "execution_count": 58,
      "metadata": {
        "colab": {
          "base_uri": "https://localhost:8080/"
        },
        "id": "pArIl70edgEM",
        "outputId": "a7066b48-2dbb-44f9-a5b7-cf46e8bde9a3"
      },
      "outputs": [
        {
          "output_type": "stream",
          "name": "stdout",
          "text": [
            "<class 'pandas.core.frame.DataFrame'>\n",
            "Int64Index: 5115 entries, 0 to 5455\n",
            "Data columns (total 25 columns):\n",
            " #   Column       Non-Null Count  Dtype  \n",
            "---  ------       --------------  -----  \n",
            " 0   sensor_1     5115 non-null   float64\n",
            " 1   sensor_2     5115 non-null   float64\n",
            " 2   sensor_3     5115 non-null   float64\n",
            " 3   sensor_4     5115 non-null   float64\n",
            " 4   sensor_5     5115 non-null   float64\n",
            " 5   sensor_6     5115 non-null   float64\n",
            " 6   sensor_7     5115 non-null   float64\n",
            " 7   sensor_8     5115 non-null   float64\n",
            " 8   sensor_9     5115 non-null   float64\n",
            " 9   sensor_10    5115 non-null   float64\n",
            " 10  sensor_11    5115 non-null   float64\n",
            " 11  sensor_12    5115 non-null   float64\n",
            " 12  sensor_13    5115 non-null   float64\n",
            " 13  sensor_14    5115 non-null   float64\n",
            " 14  sensor_15    5115 non-null   float64\n",
            " 15  sensor_16    5115 non-null   float64\n",
            " 16  sensor_17    5115 non-null   float64\n",
            " 17  sensor_18    5115 non-null   float64\n",
            " 18  sensor_19    5115 non-null   float64\n",
            " 19  sensor_20    5115 non-null   float64\n",
            " 20  sensor_21    5115 non-null   float64\n",
            " 21  sensor_22    5115 non-null   float64\n",
            " 22  sensor_23    5115 non-null   float64\n",
            " 23  sensor_24    5115 non-null   float64\n",
            " 24  funcao_robo  5115 non-null   object \n",
            "dtypes: float64(24), object(1)\n",
            "memory usage: 1.0+ MB\n"
          ]
        }
      ],
      "source": [
        "dados = dados.dropna()\n",
        "dados.info()"
      ]
    },
    {
      "cell_type": "code",
      "execution_count": 59,
      "metadata": {
        "colab": {
          "base_uri": "https://localhost:8080/",
          "height": 1000
        },
        "id": "4lxlxlYJpwjW",
        "outputId": "b02bc1d3-02d7-4197-cf26-6bd6c3c21c36"
      },
      "outputs": [
        {
          "output_type": "display_data",
          "data": {
            "text/plain": [
              "<Figure size 1080x2160 with 24 Axes>"
            ],
            "image/png": "[encoded data removed]"
          },
          "metadata": {
            "needs_background": "light"
          }
        }
      ],
      "source": [
        "# x coluna com as strings\n",
        "# y colunas numericas\n",
        "\n",
        "#sns.boxplot(data=dados, x=\"funcao_robo\", y=\"sensor_1\")\n",
        "colunas = []\n",
        "for coluna in dados:\n",
        "    colunas.append(coluna)\n",
        "\n",
        "ind_col = 0\n",
        "ind_linha = 0\n",
        "fig, axes = plt.subplots(12, 2, figsize=(15, 30))\n",
        "fig.suptitle(\"Vendo os outliers\")\n",
        "for i in range (len(colunas) - 1):\n",
        "    sns.boxplot(data=dados, x=colunas[-1], y=colunas[i], ax=axes[ind_linha, ind_col])\n",
        "    \n",
        "\n",
        "    if ind_col == 1:\n",
        "        ind_col = 0\n",
        "        ind_linha += 1\n",
        "    else:\n",
        "        ind_col += 1 \n"
      ]
    },
    {
      "cell_type": "markdown",
      "metadata": {
        "id": "Lwb0G3kGd833"
      },
      "source": [
        "## Seleção e pre-processamento de colunas (padronização/normalização)\n",
        "## label encoding, one hot encoder etc"
      ]
    },
    {
      "cell_type": "code",
      "source": [
        "# Não foi necessário realizar essa parte"
      ],
      "metadata": {
        "id": "ofekkQY0Vxqa"
      },
      "execution_count": 6,
      "outputs": []
    },
    {
      "cell_type": "markdown",
      "metadata": {
        "id": "eyeeEbrkePZI"
      },
      "source": [
        "## Separação correta das variáveis entre features (entrada) x label (saída)"
      ]
    },
    {
      "cell_type": "code",
      "execution_count": 7,
      "metadata": {
        "id": "J9OJkzxT78gA",
        "colab": {
          "base_uri": "https://localhost:8080/"
        },
        "outputId": "f6df51e1-f342-4f87-ea70-352736ac9c5b"
      },
      "outputs": [
        {
          "output_type": "execute_result",
          "data": {
            "text/plain": [
              "funcao_robo\n",
              "Move-Forward         2077\n",
              "Sharp-Right-Turn     1963\n",
              "Slight-Right-Turn     772\n",
              "Slight-Left-Turn      303\n",
              "dtype: int64"
            ]
          },
          "metadata": {},
          "execution_count": 7
        }
      ],
      "source": [
        "dados.value_counts('funcao_robo')"
      ]
    },
    {
      "cell_type": "code",
      "execution_count": 48,
      "metadata": {
        "id": "q6Bb8FD5dfkz"
      },
      "outputs": [],
      "source": [
        "x = dados.drop(columns = 'funcao_robo') \n",
        "y = dados['funcao_robo']             \n",
        "\n",
        "x_train, x_test, y_train, y_test = train_test_split(x, y, test_size = 0.2, random_state = 42, stratify=y)"
      ]
    },
    {
      "cell_type": "code",
      "execution_count": 9,
      "metadata": {
        "colab": {
          "base_uri": "https://localhost:8080/"
        },
        "id": "odzhi6CD78gB",
        "outputId": "f879d91c-c201-469d-bbd1-bafbbd4f8310"
      },
      "outputs": [
        {
          "output_type": "stream",
          "name": "stdout",
          "text": [
            "4092\n",
            "4092\n",
            "1023\n",
            "1023\n"
          ]
        }
      ],
      "source": [
        "print(len(x_train))\n",
        "print(len(y_train))\n",
        "print(len(x_test))\n",
        "print(len(y_test))"
      ]
    },
    {
      "cell_type": "markdown",
      "metadata": {
        "id": "Yo8REnl9eZjK"
      },
      "source": [
        "##Seleção e treinamento de modelos pertinentes ao problema elencado / Levantar as métricas de desempenho adequadas a técnica escolhida e ao problema modelado\n",
        "\n"
      ]
    },
    {
      "cell_type": "code",
      "source": [
        "from sklearn.discriminant_analysis import LinearDiscriminantAnalysis\n",
        "from sklearn.ensemble import RandomForestClassifier\n",
        "from sklearn.svm import SVC"
      ],
      "metadata": {
        "id": "fIeg-qGNjS54"
      },
      "execution_count": 49,
      "outputs": []
    },
    {
      "cell_type": "code",
      "execution_count": 50,
      "metadata": {
        "id": "95LL-xs878gC"
      },
      "outputs": [],
      "source": [
        "lda = LinearDiscriminantAnalysis() \n",
        "lda.fit(x_train,y_train)\n",
        "y_predicoes = lda.predict(x_test) "
      ]
    },
    {
      "cell_type": "code",
      "execution_count": 51,
      "metadata": {
        "colab": {
          "base_uri": "https://localhost:8080/"
        },
        "outputId": "302db316-3f9a-425f-aeea-17f622dc57ec",
        "id": "yQNv083si0-3"
      },
      "outputs": [
        {
          "output_type": "stream",
          "name": "stdout",
          "text": [
            "                   precision    recall  f1-score   support\n",
            "\n",
            "     Move-Forward       0.73      0.67      0.70       415\n",
            " Sharp-Right-Turn       0.66      0.80      0.72       393\n",
            " Slight-Left-Turn       0.48      0.64      0.55        61\n",
            "Slight-Right-Turn       0.57      0.31      0.40       154\n",
            "\n",
            "         accuracy                           0.66      1023\n",
            "        macro avg       0.61      0.60      0.59      1023\n",
            "     weighted avg       0.66      0.66      0.65      1023\n",
            "\n"
          ]
        }
      ],
      "source": [
        "print(classification_report(y_test, y_predicoes))"
      ]
    },
    {
      "cell_type": "markdown",
      "source": [
        "pouca precisão"
      ],
      "metadata": {
        "id": "Gg4fe7SY6LL1"
      }
    },
    {
      "cell_type": "code",
      "source": [
        "RFC = RandomForestClassifier()\n",
        "RFC.fit(x_train, y_train)\n",
        "y_predicoes = RFC.predict(x_test)"
      ],
      "metadata": {
        "id": "v0jGS5B0Hsuq"
      },
      "execution_count": 52,
      "outputs": []
    },
    {
      "cell_type": "code",
      "execution_count": 53,
      "metadata": {
        "id": "7VmXHRWaeZXi",
        "colab": {
          "base_uri": "https://localhost:8080/"
        },
        "outputId": "9629ea70-7987-481b-fbba-3e651d530137"
      },
      "outputs": [
        {
          "output_type": "stream",
          "name": "stdout",
          "text": [
            "                   precision    recall  f1-score   support\n",
            "\n",
            "     Move-Forward       1.00      0.99      0.99       415\n",
            " Sharp-Right-Turn       1.00      0.99      1.00       393\n",
            " Slight-Left-Turn       0.98      0.98      0.98        61\n",
            "Slight-Right-Turn       0.98      1.00      0.99       154\n",
            "\n",
            "         accuracy                           0.99      1023\n",
            "        macro avg       0.99      0.99      0.99      1023\n",
            "     weighted avg       0.99      0.99      0.99      1023\n",
            "\n"
          ]
        }
      ],
      "source": [
        "print(classification_report(y_test, y_predicoes))"
      ]
    },
    {
      "cell_type": "markdown",
      "source": [
        "overfitting"
      ],
      "metadata": {
        "id": "YV71As7o6JEz"
      }
    },
    {
      "cell_type": "code",
      "source": [
        "SVC = SVC()\n",
        "SVC.fit(x_train, y_train)\n",
        "y_predicoes = SVC.predict(x_test)"
      ],
      "metadata": {
        "id": "JZq0OBlY4lN8"
      },
      "execution_count": 54,
      "outputs": []
    },
    {
      "cell_type": "code",
      "execution_count": 55,
      "metadata": {
        "colab": {
          "base_uri": "https://localhost:8080/"
        },
        "outputId": "ebec3d9d-8778-46d4-b323-48a3ef548905",
        "id": "yQlQ4TwcizAv"
      },
      "outputs": [
        {
          "output_type": "stream",
          "name": "stdout",
          "text": [
            "                   precision    recall  f1-score   support\n",
            "\n",
            "     Move-Forward       0.86      0.88      0.87       415\n",
            " Sharp-Right-Turn       0.90      0.94      0.92       393\n",
            " Slight-Left-Turn       0.95      0.85      0.90        61\n",
            "Slight-Right-Turn       0.89      0.76      0.82       154\n",
            "\n",
            "         accuracy                           0.88      1023\n",
            "        macro avg       0.90      0.86      0.88      1023\n",
            "     weighted avg       0.88      0.88      0.88      1023\n",
            "\n"
          ]
        }
      ],
      "source": [
        "print(classification_report(y_test, y_predicoes))"
      ]
    },
    {
      "cell_type": "markdown",
      "source": [
        "bom resultado"
      ],
      "metadata": {
        "id": "BR0O2CE85_cr"
      }
    },
    {
      "cell_type": "markdown",
      "metadata": {
        "id": "bOCnoe0HesbH"
      },
      "source": [
        "## Capacidade de inferir conclusões a partir de uma análise exploratória e analisar o desempenho de modelos de aprendizado de máquina\n",
        "\n",
        "- As explicações devem ser pertinentes e consistentes com as análises feitas. Será avaliada a argumentação baseada em dados.\n",
        "    - uma interpretação qualitativa da análise exploratória;\n",
        "    - discussão dos outliers observados\n",
        "    - justificativa da escolha da abordagem (por que optaram por \n",
        "regressão/classificação/clusterização?);\n",
        "    - discussão da métrica de erro (a métrica tem um bom valor? Por \n",
        "quê?)"
      ]
    },
    {
      "cell_type": "markdown",
      "source": [
        "## Conclusão 1\n",
        "\n",
        "### Análise exploratória\n",
        "  Os sensores mais próximos como o sensor 4 e 5 possuem uma correlação maior do que os sensores 9 e 5, pois os sensores 4 e 5 não possuem muita distância entre si, logo, observam coisas semelhantes. Diferente dos sensores 9 e 5 que possuem uma distância consideravel, logo, observam coisas diferentes entre si. \n",
        "### Discussão dos outliers\n",
        "  Observamos também que existe muitos outliers entre os sensores e a funcao_robo, isso aparece de forma bem demonstrativa nos sensores 16 em diante, pois possuem mais outliers que os sensores anteriores ao 15, incluindo o mesmo.\n",
        "### Justificativa da escolha\n",
        "  Decidimos optar pelo machine learning de classificação, pois tinhamos que decidir em qual lado o robô teria que ir e essa informação pode ser separada por classes.\n",
        "### Métrica de erro\n",
        "  A respeito das métricas testamos 3 algoritmos diferentes: LinearDiscriminantAnalysis, RandomForestClassifier e SVC. \n",
        "  O primeiro obteve maus resultados com métricas de desempenho bem baixas (0.66 de acurácia), o segundo por sua vez obteve resultados bons até demais (0.99 de acurácia) o que classifica como um overfitting e o último foi o melhor de todos, pois não possuiu uma acurácia baixa e não fez um overfitting (0.88 de acurácia). "
      ],
      "metadata": {
        "id": "23jPcedCSQr4"
      }
    },
    {
      "cell_type": "markdown",
      "source": [
        "# Segundo dataset"
      ],
      "metadata": {
        "id": "4jVc0Ba0Y32v"
      }
    },
    {
      "cell_type": "markdown",
      "source": [
        "## Análise exploratória do \"dataset_velocidade.csv\""
      ],
      "metadata": {
        "id": "bQtQTjEFmXjV"
      }
    },
    {
      "cell_type": "code",
      "source": [
        "dados2 = pd.read_csv(\"dataset_velocidade.csv\", sep=\",\")\n",
        "display(dados2)"
      ],
      "metadata": {
        "colab": {
          "base_uri": "https://localhost:8080/",
          "height": 488
        },
        "id": "PcFXDgZwZGST",
        "outputId": "0e05e222-d8f3-42f7-aa36-7841e26e03b7"
      },
      "execution_count": 17,
      "outputs": [
        {
          "output_type": "display_data",
          "data": {
            "text/plain": [
              "        no_speed_bump  acc_x_dashboard  acc_y_dashboard  acc_z_dashboard  \\\n",
              "0                 NaN        -0.029431        -0.019621         9.781015   \n",
              "1                 1.0        -0.039008         0.009110         9.819322   \n",
              "2                 1.0         0.010073         0.005518         9.777423   \n",
              "3                 1.0         0.020847         0.028263         9.785803   \n",
              "4                 1.0        -0.003095        -0.017227         9.800168   \n",
              "...               ...              ...              ...              ...   \n",
              "124679            1.0         0.427861        -0.261435         9.958185   \n",
              "124680            1.0         0.466169        -0.316502         9.867206   \n",
              "124681            1.0         0.332093        -0.555922         9.646939   \n",
              "124682            1.0         0.339276        -0.570287         9.824110   \n",
              "124683            1.0         0.439832        -0.201580        10.101838   \n",
              "\n",
              "        gyro_x_dashboard  gyro_y_dashboard  gyro_z_dashboard  temp_dashboard  \\\n",
              "0              -0.122070         -0.006327         -0.112208       32.166023   \n",
              "1              -0.030518          0.115743         -0.051173       32.453560   \n",
              "2              -0.122070          0.100485         -0.020655       32.405637   \n",
              "3               0.061035          0.207296         -0.112208       32.453560   \n",
              "4              -0.091553          0.146261         -0.112208       32.309791   \n",
              "...                  ...               ...               ...             ...   \n",
              "124679          0.030518         -0.006327          0.070898       32.070177   \n",
              "124680         -0.122070         -0.082621         -0.020655       32.094138   \n",
              "124681         -0.183105         -0.067362          0.101415       32.261868   \n",
              "124682         -0.122070         -0.006327         -0.173243       32.070177   \n",
              "124683          0.000000          0.176779         -0.234278       32.070177   \n",
              "\n",
              "           speed   road  \n",
              "0       0.010822  paved  \n",
              "1       0.010822  paved  \n",
              "2       0.010822  paved  \n",
              "3       0.010822  paved  \n",
              "4       0.010822  paved  \n",
              "...          ...    ...  \n",
              "124679  0.023570  paved  \n",
              "124680  0.023570  paved  \n",
              "124681  0.023570  paved  \n",
              "124682  0.023570  paved  \n",
              "124683  0.023570  paved  \n",
              "\n",
              "[124684 rows x 10 columns]"
            ],
            "text/html": [
              "\n",
              "  <div id=\"df-335c4870-1764-464a-ae95-bda46c31142b\">\n",
              "    <div class=\"colab-df-container\">\n",
              "      <div>\n",
              "<style scoped>\n",
              "    .dataframe tbody tr th:only-of-type {\n",
              "        vertical-align: middle;\n",
              "    }\n",
              "\n",
              "    .dataframe tbody tr th {\n",
              "        vertical-align: top;\n",
              "    }\n",
              "\n",
              "    .dataframe thead th {\n",
              "        text-align: right;\n",
              "    }\n",
              "</style>\n",
              "<table border=\"1\" class=\"dataframe\">\n",
              "  <thead>\n",
              "    <tr style=\"text-align: right;\">\n",
              "      <th></th>\n",
              "      <th>no_speed_bump</th>\n",
              "      <th>acc_x_dashboard</th>\n",
              "      <th>acc_y_dashboard</th>\n",
              "      <th>acc_z_dashboard</th>\n",
              "      <th>gyro_x_dashboard</th>\n",
              "      <th>gyro_y_dashboard</th>\n",
              "      <th>gyro_z_dashboard</th>\n",
              "      <th>temp_dashboard</th>\n",
              "      <th>speed</th>\n",
              "      <th>road</th>\n",
              "    </tr>\n",
              "  </thead>\n",
              "  <tbody>\n",
              "    <tr>\n",
              "      <th>0</th>\n",
              "      <td>NaN</td>\n",
              "      <td>-0.029431</td>\n",
              "      <td>-0.019621</td>\n",
              "      <td>9.781015</td>\n",
              "      <td>-0.122070</td>\n",
              "      <td>-0.006327</td>\n",
              "      <td>-0.112208</td>\n",
              "      <td>32.166023</td>\n",
              "      <td>0.010822</td>\n",
              "      <td>paved</td>\n",
              "    </tr>\n",
              "    <tr>\n",
              "      <th>1</th>\n",
              "      <td>1.0</td>\n",
              "      <td>-0.039008</td>\n",
              "      <td>0.009110</td>\n",
              "      <td>9.819322</td>\n",
              "      <td>-0.030518</td>\n",
              "      <td>0.115743</td>\n",
              "      <td>-0.051173</td>\n",
              "      <td>32.453560</td>\n",
              "      <td>0.010822</td>\n",
              "      <td>paved</td>\n",
              "    </tr>\n",
              "    <tr>\n",
              "      <th>2</th>\n",
              "      <td>1.0</td>\n",
              "      <td>0.010073</td>\n",
              "      <td>0.005518</td>\n",
              "      <td>9.777423</td>\n",
              "      <td>-0.122070</td>\n",
              "      <td>0.100485</td>\n",
              "      <td>-0.020655</td>\n",
              "      <td>32.405637</td>\n",
              "      <td>0.010822</td>\n",
              "      <td>paved</td>\n",
              "    </tr>\n",
              "    <tr>\n",
              "      <th>3</th>\n",
              "      <td>1.0</td>\n",
              "      <td>0.020847</td>\n",
              "      <td>0.028263</td>\n",
              "      <td>9.785803</td>\n",
              "      <td>0.061035</td>\n",
              "      <td>0.207296</td>\n",
              "      <td>-0.112208</td>\n",
              "      <td>32.453560</td>\n",
              "      <td>0.010822</td>\n",
              "      <td>paved</td>\n",
              "    </tr>\n",
              "    <tr>\n",
              "      <th>4</th>\n",
              "      <td>1.0</td>\n",
              "      <td>-0.003095</td>\n",
              "      <td>-0.017227</td>\n",
              "      <td>9.800168</td>\n",
              "      <td>-0.091553</td>\n",
              "      <td>0.146261</td>\n",
              "      <td>-0.112208</td>\n",
              "      <td>32.309791</td>\n",
              "      <td>0.010822</td>\n",
              "      <td>paved</td>\n",
              "    </tr>\n",
              "    <tr>\n",
              "      <th>...</th>\n",
              "      <td>...</td>\n",
              "      <td>...</td>\n",
              "      <td>...</td>\n",
              "      <td>...</td>\n",
              "      <td>...</td>\n",
              "      <td>...</td>\n",
              "      <td>...</td>\n",
              "      <td>...</td>\n",
              "      <td>...</td>\n",
              "      <td>...</td>\n",
              "    </tr>\n",
              "    <tr>\n",
              "      <th>124679</th>\n",
              "      <td>1.0</td>\n",
              "      <td>0.427861</td>\n",
              "      <td>-0.261435</td>\n",
              "      <td>9.958185</td>\n",
              "      <td>0.030518</td>\n",
              "      <td>-0.006327</td>\n",
              "      <td>0.070898</td>\n",
              "      <td>32.070177</td>\n",
              "      <td>0.023570</td>\n",
              "      <td>paved</td>\n",
              "    </tr>\n",
              "    <tr>\n",
              "      <th>124680</th>\n",
              "      <td>1.0</td>\n",
              "      <td>0.466169</td>\n",
              "      <td>-0.316502</td>\n",
              "      <td>9.867206</td>\n",
              "      <td>-0.122070</td>\n",
              "      <td>-0.082621</td>\n",
              "      <td>-0.020655</td>\n",
              "      <td>32.094138</td>\n",
              "      <td>0.023570</td>\n",
              "      <td>paved</td>\n",
              "    </tr>\n",
              "    <tr>\n",
              "      <th>124681</th>\n",
              "      <td>1.0</td>\n",
              "      <td>0.332093</td>\n",
              "      <td>-0.555922</td>\n",
              "      <td>9.646939</td>\n",
              "      <td>-0.183105</td>\n",
              "      <td>-0.067362</td>\n",
              "      <td>0.101415</td>\n",
              "      <td>32.261868</td>\n",
              "      <td>0.023570</td>\n",
              "      <td>paved</td>\n",
              "    </tr>\n",
              "    <tr>\n",
              "      <th>124682</th>\n",
              "      <td>1.0</td>\n",
              "      <td>0.339276</td>\n",
              "      <td>-0.570287</td>\n",
              "      <td>9.824110</td>\n",
              "      <td>-0.122070</td>\n",
              "      <td>-0.006327</td>\n",
              "      <td>-0.173243</td>\n",
              "      <td>32.070177</td>\n",
              "      <td>0.023570</td>\n",
              "      <td>paved</td>\n",
              "    </tr>\n",
              "    <tr>\n",
              "      <th>124683</th>\n",
              "      <td>1.0</td>\n",
              "      <td>0.439832</td>\n",
              "      <td>-0.201580</td>\n",
              "      <td>10.101838</td>\n",
              "      <td>0.000000</td>\n",
              "      <td>0.176779</td>\n",
              "      <td>-0.234278</td>\n",
              "      <td>32.070177</td>\n",
              "      <td>0.023570</td>\n",
              "      <td>paved</td>\n",
              "    </tr>\n",
              "  </tbody>\n",
              "</table>\n",
              "<p>124684 rows × 10 columns</p>\n",
              "</div>\n",
              "      <button class=\"colab-df-convert\" onclick=\"convertToInteractive('df-335c4870-1764-464a-ae95-bda46c31142b')\"\n",
              "              title=\"Convert this dataframe to an interactive table.\"\n",
              "              style=\"display:none;\">\n",
              "        \n",
              "  <svg xmlns=\"http://www.w3.org/2000/svg\" height=\"24px\"viewBox=\"0 0 24 24\"\n",
              "       width=\"24px\">\n",
              "    <path d=\"M0 0h24v24H0V0z\" fill=\"none\"/>\n",
              "    <path d=\"M18.56 5.44l.94 2.06.94-2.06 2.06-.94-2.06-.94-.94-2.06-.94 2.06-2.06.94zm-11 1L8.5 8.5l.94-2.06 2.06-.94-2.06-.94L8.5 2.5l-.94 2.06-2.06.94zm10 10l.94 2.06.94-2.06 2.06-.94-2.06-.94-.94-2.06-.94 2.06-2.06.94z\"/><path d=\"M17.41 7.96l-1.37-1.37c-.4-.4-.92-.59-1.43-.59-.52 0-1.04.2-1.43.59L10.3 9.45l-7.72 7.72c-.78.78-.78 2.05 0 2.83L4 21.41c.39.39.9.59 1.41.59.51 0 1.02-.2 1.41-.59l7.78-7.78 2.81-2.81c.8-.78.8-2.07 0-2.86zM5.41 20L4 18.59l7.72-7.72 1.47 1.35L5.41 20z\"/>\n",
              "  </svg>\n",
              "      </button>\n",
              "      \n",
              "  <style>\n",
              "    .colab-df-container {\n",
              "      display:flex;\n",
              "      flex-wrap:wrap;\n",
              "      gap: 12px;\n",
              "    }\n",
              "\n",
              "    .colab-df-convert {\n",
              "      background-color: #E8F0FE;\n",
              "      border: none;\n",
              "      border-radius: 50%;\n",
              "      cursor: pointer;\n",
              "      display: none;\n",
              "      fill: #1967D2;\n",
              "      height: 32px;\n",
              "      padding: 0 0 0 0;\n",
              "      width: 32px;\n",
              "    }\n",
              "\n",
              "    .colab-df-convert:hover {\n",
              "      background-color: #E2EBFA;\n",
              "      box-shadow: 0px 1px 2px rgba(60, 64, 67, 0.3), 0px 1px 3px 1px rgba(60, 64, 67, 0.15);\n",
              "      fill: #174EA6;\n",
              "    }\n",
              "\n",
              "    [theme=dark] .colab-df-convert {\n",
              "      background-color: #3B4455;\n",
              "      fill: #D2E3FC;\n",
              "    }\n",
              "\n",
              "    [theme=dark] .colab-df-convert:hover {\n",
              "      background-color: #434B5C;\n",
              "      box-shadow: 0px 1px 3px 1px rgba(0, 0, 0, 0.15);\n",
              "      filter: drop-shadow(0px 1px 2px rgba(0, 0, 0, 0.3));\n",
              "      fill: #FFFFFF;\n",
              "    }\n",
              "  </style>\n",
              "\n",
              "      <script>\n",
              "        const buttonEl =\n",
              "          document.querySelector('#df-335c4870-1764-464a-ae95-bda46c31142b button.colab-df-convert');\n",
              "        buttonEl.style.display =\n",
              "          google.colab.kernel.accessAllowed ? 'block' : 'none';\n",
              "\n",
              "        async function convertToInteractive(key) {\n",
              "          const element = document.querySelector('#df-335c4870-1764-464a-ae95-bda46c31142b');\n",
              "          const dataTable =\n",
              "            await google.colab.kernel.invokeFunction('convertToInteractive',\n",
              "                                                     [key], {});\n",
              "          if (!dataTable) return;\n",
              "\n",
              "          const docLinkHtml = 'Like what you see? Visit the ' +\n",
              "            '<a target=\"_blank\" href=https://colab.research.google.com/notebooks/data_table.ipynb>data table notebook</a>'\n",
              "            + ' to learn more about interactive tables.';\n",
              "          element.innerHTML = '';\n",
              "          dataTable['output_type'] = 'display_data';\n",
              "          await google.colab.output.renderOutput(dataTable, element);\n",
              "          const docLink = document.createElement('div');\n",
              "          docLink.innerHTML = docLinkHtml;\n",
              "          element.appendChild(docLink);\n",
              "        }\n",
              "      </script>\n",
              "    </div>\n",
              "  </div>\n",
              "  "
            ]
          },
          "metadata": {}
        }
      ]
    },
    {
      "cell_type": "markdown",
      "source": [
        "## Tratamento dados faltantes e identificação de outliers"
      ],
      "metadata": {
        "id": "oX95chxgmdxe"
      }
    },
    {
      "cell_type": "code",
      "source": [
        "dados2.info()"
      ],
      "metadata": {
        "colab": {
          "base_uri": "https://localhost:8080/"
        },
        "id": "ifnKFZvCk8zA",
        "outputId": "c7cd069e-fe1c-4851-ee7f-23a50971ac51"
      },
      "execution_count": 18,
      "outputs": [
        {
          "output_type": "stream",
          "name": "stdout",
          "text": [
            "<class 'pandas.core.frame.DataFrame'>\n",
            "RangeIndex: 124684 entries, 0 to 124683\n",
            "Data columns (total 10 columns):\n",
            " #   Column            Non-Null Count   Dtype  \n",
            "---  ------            --------------   -----  \n",
            " 0   no_speed_bump     123437 non-null  float64\n",
            " 1   acc_x_dashboard   123437 non-null  float64\n",
            " 2   acc_y_dashboard   123437 non-null  float64\n",
            " 3   acc_z_dashboard   123437 non-null  float64\n",
            " 4   gyro_x_dashboard  123437 non-null  float64\n",
            " 5   gyro_y_dashboard  123437 non-null  float64\n",
            " 6   gyro_z_dashboard  123437 non-null  float64\n",
            " 7   temp_dashboard    123437 non-null  float64\n",
            " 8   speed             123437 non-null  float64\n",
            " 9   road              124684 non-null  object \n",
            "dtypes: float64(9), object(1)\n",
            "memory usage: 9.5+ MB\n"
          ]
        }
      ]
    },
    {
      "cell_type": "code",
      "source": [
        "dados2 = dados2.dropna()\n",
        "dados2.info()"
      ],
      "metadata": {
        "id": "WY53YChXlANj",
        "colab": {
          "base_uri": "https://localhost:8080/"
        },
        "outputId": "6c504a69-4e3e-45d6-8ea0-4e527965cc20"
      },
      "execution_count": 19,
      "outputs": [
        {
          "output_type": "stream",
          "name": "stdout",
          "text": [
            "<class 'pandas.core.frame.DataFrame'>\n",
            "Int64Index: 113907 entries, 1 to 124683\n",
            "Data columns (total 10 columns):\n",
            " #   Column            Non-Null Count   Dtype  \n",
            "---  ------            --------------   -----  \n",
            " 0   no_speed_bump     113907 non-null  float64\n",
            " 1   acc_x_dashboard   113907 non-null  float64\n",
            " 2   acc_y_dashboard   113907 non-null  float64\n",
            " 3   acc_z_dashboard   113907 non-null  float64\n",
            " 4   gyro_x_dashboard  113907 non-null  float64\n",
            " 5   gyro_y_dashboard  113907 non-null  float64\n",
            " 6   gyro_z_dashboard  113907 non-null  float64\n",
            " 7   temp_dashboard    113907 non-null  float64\n",
            " 8   speed             113907 non-null  float64\n",
            " 9   road              113907 non-null  object \n",
            "dtypes: float64(9), object(1)\n",
            "memory usage: 9.6+ MB\n"
          ]
        }
      ]
    },
    {
      "cell_type": "code",
      "source": [
        "colunas = []\n",
        "for coluna in dados2:\n",
        "    colunas.append(coluna)\n",
        "\n",
        "ind_col = 0\n",
        "ind_linha = 0\n",
        "fig, axes = plt.subplots(5, 2, figsize=(10, 15))\n",
        "fig.suptitle(\"Vendo os outliers\")\n",
        "\n",
        "for i in range (len(colunas) - 1):\n",
        "    sns.boxplot(data=dados2, x=colunas[-1], y=colunas[i], ax=axes[ind_linha, ind_col])\n",
        "    \n",
        "    if ind_col == 1:\n",
        "        ind_col = 0\n",
        "        ind_linha += 1\n",
        "    else:\n",
        "        ind_col += 1 "
      ],
      "metadata": {
        "colab": {
          "base_uri": "https://localhost:8080/",
          "height": 985
        },
        "id": "9KDSBRza7pOi",
        "outputId": "f828ffae-528a-4315-f82a-2e01e93969b7"
      },
      "execution_count": 20,
      "outputs": [
        {
          "output_type": "display_data",
          "data": {
            "text/plain": [
              "<Figure size 720x1080 with 10 Axes>"
            ],
            "image/png": "[encoded data removed]"
          },
          "metadata": {
            "needs_background": "light"
          }
        }
      ]
    },
    {
      "cell_type": "code",
      "source": [
        "dados_remove = dados2.loc[(dados2['speed'] > 8) & (dados2['road'] == 'unpaved')]"
      ],
      "metadata": {
        "id": "qqmewdyobvvM"
      },
      "execution_count": 21,
      "outputs": []
    },
    {
      "cell_type": "code",
      "source": [
        "ultimo_df = dados2.drop(dados_remove.index)"
      ],
      "metadata": {
        "id": "OPqGJkWIdBjN"
      },
      "execution_count": 22,
      "outputs": []
    },
    {
      "cell_type": "code",
      "source": [
        "dados2 = ultimo_df"
      ],
      "metadata": {
        "id": "_bZYX0dadNIC"
      },
      "execution_count": 23,
      "outputs": []
    },
    {
      "cell_type": "code",
      "source": [
        "sns.boxplot(data=dados2, x=dados2['road'], y=dados2['speed'])"
      ],
      "metadata": {
        "colab": {
          "base_uri": "https://localhost:8080/",
          "height": 296
        },
        "id": "R501jyqSbwRM",
        "outputId": "263e9e6d-9b28-47f1-95e1-8fd1d87977a4"
      },
      "execution_count": 24,
      "outputs": [
        {
          "output_type": "execute_result",
          "data": {
            "text/plain": [
              "<matplotlib.axes._subplots.AxesSubplot at 0x7efea4f96f50>"
            ]
          },
          "metadata": {},
          "execution_count": 24
        },
        {
          "output_type": "display_data",
          "data": {
            "text/plain": [
              "<Figure size 432x288 with 1 Axes>"
            ],
            "image/png": "[encoded data removed]"
          },
          "metadata": {
            "needs_background": "light"
          }
        }
      ]
    },
    {
      "cell_type": "markdown",
      "source": [
        "## Seleção e pre-processamento de colunas (padronização/normalização, label encoding, one hot encoder, etc – aplicar o que for necessário!)"
      ],
      "metadata": {
        "id": "9emxX5h_P2cr"
      }
    },
    {
      "cell_type": "code",
      "source": [
        "colunasCategorias = ['road']\n",
        "dados2 = pd.get_dummies(data=dados2, columns=colunasCategorias)\n",
        "display(dados2)"
      ],
      "metadata": {
        "colab": {
          "base_uri": "https://localhost:8080/",
          "height": 488
        },
        "id": "Zpy6a6AtZ9w0",
        "outputId": "08637f68-99bf-45e9-f2a5-f182eb515365"
      },
      "execution_count": 25,
      "outputs": [
        {
          "output_type": "display_data",
          "data": {
            "text/plain": [
              "        no_speed_bump  acc_x_dashboard  acc_y_dashboard  acc_z_dashboard  \\\n",
              "1                 1.0        -0.039008         0.009110         9.819322   \n",
              "2                 1.0         0.010073         0.005518         9.777423   \n",
              "3                 1.0         0.020847         0.028263         9.785803   \n",
              "4                 1.0        -0.003095        -0.017227         9.800168   \n",
              "5                 1.0         0.006482         0.011504         9.850446   \n",
              "...               ...              ...              ...              ...   \n",
              "124679            1.0         0.427861        -0.261435         9.958185   \n",
              "124680            1.0         0.466169        -0.316502         9.867206   \n",
              "124681            1.0         0.332093        -0.555922         9.646939   \n",
              "124682            1.0         0.339276        -0.570287         9.824110   \n",
              "124683            1.0         0.439832        -0.201580        10.101838   \n",
              "\n",
              "        gyro_x_dashboard  gyro_y_dashboard  gyro_z_dashboard  temp_dashboard  \\\n",
              "1              -0.030518          0.115743         -0.051173       32.453560   \n",
              "2              -0.122070          0.100485         -0.020655       32.405637   \n",
              "3               0.061035          0.207296         -0.112208       32.453560   \n",
              "4              -0.091553          0.146261         -0.112208       32.309791   \n",
              "5               0.000000         -0.342020         -0.081690       32.357714   \n",
              "...                  ...               ...               ...             ...   \n",
              "124679          0.030518         -0.006327          0.070898       32.070177   \n",
              "124680         -0.122070         -0.082621         -0.020655       32.094138   \n",
              "124681         -0.183105         -0.067362          0.101415       32.261868   \n",
              "124682         -0.122070         -0.006327         -0.173243       32.070177   \n",
              "124683          0.000000          0.176779         -0.234278       32.070177   \n",
              "\n",
              "           speed  road_asphalt  road_cobblestone  road_dirt  road_paved  \\\n",
              "1       0.010822             0                 0          0           1   \n",
              "2       0.010822             0                 0          0           1   \n",
              "3       0.010822             0                 0          0           1   \n",
              "4       0.010822             0                 0          0           1   \n",
              "5       0.010822             0                 0          0           1   \n",
              "...          ...           ...               ...        ...         ...   \n",
              "124679  0.023570             0                 0          0           1   \n",
              "124680  0.023570             0                 0          0           1   \n",
              "124681  0.023570             0                 0          0           1   \n",
              "124682  0.023570             0                 0          0           1   \n",
              "124683  0.023570             0                 0          0           1   \n",
              "\n",
              "        road_unpaved  \n",
              "1                  0  \n",
              "2                  0  \n",
              "3                  0  \n",
              "4                  0  \n",
              "5                  0  \n",
              "...              ...  \n",
              "124679             0  \n",
              "124680             0  \n",
              "124681             0  \n",
              "124682             0  \n",
              "124683             0  \n",
              "\n",
              "[113898 rows x 14 columns]"
            ],
            "text/html": [
              "\n",
              "  <div id=\"df-4fae168a-2d9c-48b3-a637-bdeb592bc2a6\">\n",
              "    <div class=\"colab-df-container\">\n",
              "      <div>\n",
              "<style scoped>\n",
              "    .dataframe tbody tr th:only-of-type {\n",
              "        vertical-align: middle;\n",
              "    }\n",
              "\n",
              "    .dataframe tbody tr th {\n",
              "        vertical-align: top;\n",
              "    }\n",
              "\n",
              "    .dataframe thead th {\n",
              "        text-align: right;\n",
              "    }\n",
              "</style>\n",
              "<table border=\"1\" class=\"dataframe\">\n",
              "  <thead>\n",
              "    <tr style=\"text-align: right;\">\n",
              "      <th></th>\n",
              "      <th>no_speed_bump</th>\n",
              "      <th>acc_x_dashboard</th>\n",
              "      <th>acc_y_dashboard</th>\n",
              "      <th>acc_z_dashboard</th>\n",
              "      <th>gyro_x_dashboard</th>\n",
              "      <th>gyro_y_dashboard</th>\n",
              "      <th>gyro_z_dashboard</th>\n",
              "      <th>temp_dashboard</th>\n",
              "      <th>speed</th>\n",
              "      <th>road_asphalt</th>\n",
              "      <th>road_cobblestone</th>\n",
              "      <th>road_dirt</th>\n",
              "      <th>road_paved</th>\n",
              "      <th>road_unpaved</th>\n",
              "    </tr>\n",
              "  </thead>\n",
              "  <tbody>\n",
              "    <tr>\n",
              "      <th>1</th>\n",
              "      <td>1.0</td>\n",
              "      <td>-0.039008</td>\n",
              "      <td>0.009110</td>\n",
              "      <td>9.819322</td>\n",
              "      <td>-0.030518</td>\n",
              "      <td>0.115743</td>\n",
              "      <td>-0.051173</td>\n",
              "      <td>32.453560</td>\n",
              "      <td>0.010822</td>\n",
              "      <td>0</td>\n",
              "      <td>0</td>\n",
              "      <td>0</td>\n",
              "      <td>1</td>\n",
              "      <td>0</td>\n",
              "    </tr>\n",
              "    <tr>\n",
              "      <th>2</th>\n",
              "      <td>1.0</td>\n",
              "      <td>0.010073</td>\n",
              "      <td>0.005518</td>\n",
              "      <td>9.777423</td>\n",
              "      <td>-0.122070</td>\n",
              "      <td>0.100485</td>\n",
              "      <td>-0.020655</td>\n",
              "      <td>32.405637</td>\n",
              "      <td>0.010822</td>\n",
              "      <td>0</td>\n",
              "      <td>0</td>\n",
              "      <td>0</td>\n",
              "      <td>1</td>\n",
              "      <td>0</td>\n",
              "    </tr>\n",
              "    <tr>\n",
              "      <th>3</th>\n",
              "      <td>1.0</td>\n",
              "      <td>0.020847</td>\n",
              "      <td>0.028263</td>\n",
              "      <td>9.785803</td>\n",
              "      <td>0.061035</td>\n",
              "      <td>0.207296</td>\n",
              "      <td>-0.112208</td>\n",
              "      <td>32.453560</td>\n",
              "      <td>0.010822</td>\n",
              "      <td>0</td>\n",
              "      <td>0</td>\n",
              "      <td>0</td>\n",
              "      <td>1</td>\n",
              "      <td>0</td>\n",
              "    </tr>\n",
              "    <tr>\n",
              "      <th>4</th>\n",
              "      <td>1.0</td>\n",
              "      <td>-0.003095</td>\n",
              "      <td>-0.017227</td>\n",
              "      <td>9.800168</td>\n",
              "      <td>-0.091553</td>\n",
              "      <td>0.146261</td>\n",
              "      <td>-0.112208</td>\n",
              "      <td>32.309791</td>\n",
              "      <td>0.010822</td>\n",
              "      <td>0</td>\n",
              "      <td>0</td>\n",
              "      <td>0</td>\n",
              "      <td>1</td>\n",
              "      <td>0</td>\n",
              "    </tr>\n",
              "    <tr>\n",
              "      <th>5</th>\n",
              "      <td>1.0</td>\n",
              "      <td>0.006482</td>\n",
              "      <td>0.011504</td>\n",
              "      <td>9.850446</td>\n",
              "      <td>0.000000</td>\n",
              "      <td>-0.342020</td>\n",
              "      <td>-0.081690</td>\n",
              "      <td>32.357714</td>\n",
              "      <td>0.010822</td>\n",
              "      <td>0</td>\n",
              "      <td>0</td>\n",
              "      <td>0</td>\n",
              "      <td>1</td>\n",
              "      <td>0</td>\n",
              "    </tr>\n",
              "    <tr>\n",
              "      <th>...</th>\n",
              "      <td>...</td>\n",
              "      <td>...</td>\n",
              "      <td>...</td>\n",
              "      <td>...</td>\n",
              "      <td>...</td>\n",
              "      <td>...</td>\n",
              "      <td>...</td>\n",
              "      <td>...</td>\n",
              "      <td>...</td>\n",
              "      <td>...</td>\n",
              "      <td>...</td>\n",
              "      <td>...</td>\n",
              "      <td>...</td>\n",
              "      <td>...</td>\n",
              "    </tr>\n",
              "    <tr>\n",
              "      <th>124679</th>\n",
              "      <td>1.0</td>\n",
              "      <td>0.427861</td>\n",
              "      <td>-0.261435</td>\n",
              "      <td>9.958185</td>\n",
              "      <td>0.030518</td>\n",
              "      <td>-0.006327</td>\n",
              "      <td>0.070898</td>\n",
              "      <td>32.070177</td>\n",
              "      <td>0.023570</td>\n",
              "      <td>0</td>\n",
              "      <td>0</td>\n",
              "      <td>0</td>\n",
              "      <td>1</td>\n",
              "      <td>0</td>\n",
              "    </tr>\n",
              "    <tr>\n",
              "      <th>124680</th>\n",
              "      <td>1.0</td>\n",
              "      <td>0.466169</td>\n",
              "      <td>-0.316502</td>\n",
              "      <td>9.867206</td>\n",
              "      <td>-0.122070</td>\n",
              "      <td>-0.082621</td>\n",
              "      <td>-0.020655</td>\n",
              "      <td>32.094138</td>\n",
              "      <td>0.023570</td>\n",
              "      <td>0</td>\n",
              "      <td>0</td>\n",
              "      <td>0</td>\n",
              "      <td>1</td>\n",
              "      <td>0</td>\n",
              "    </tr>\n",
              "    <tr>\n",
              "      <th>124681</th>\n",
              "      <td>1.0</td>\n",
              "      <td>0.332093</td>\n",
              "      <td>-0.555922</td>\n",
              "      <td>9.646939</td>\n",
              "      <td>-0.183105</td>\n",
              "      <td>-0.067362</td>\n",
              "      <td>0.101415</td>\n",
              "      <td>32.261868</td>\n",
              "      <td>0.023570</td>\n",
              "      <td>0</td>\n",
              "      <td>0</td>\n",
              "      <td>0</td>\n",
              "      <td>1</td>\n",
              "      <td>0</td>\n",
              "    </tr>\n",
              "    <tr>\n",
              "      <th>124682</th>\n",
              "      <td>1.0</td>\n",
              "      <td>0.339276</td>\n",
              "      <td>-0.570287</td>\n",
              "      <td>9.824110</td>\n",
              "      <td>-0.122070</td>\n",
              "      <td>-0.006327</td>\n",
              "      <td>-0.173243</td>\n",
              "      <td>32.070177</td>\n",
              "      <td>0.023570</td>\n",
              "      <td>0</td>\n",
              "      <td>0</td>\n",
              "      <td>0</td>\n",
              "      <td>1</td>\n",
              "      <td>0</td>\n",
              "    </tr>\n",
              "    <tr>\n",
              "      <th>124683</th>\n",
              "      <td>1.0</td>\n",
              "      <td>0.439832</td>\n",
              "      <td>-0.201580</td>\n",
              "      <td>10.101838</td>\n",
              "      <td>0.000000</td>\n",
              "      <td>0.176779</td>\n",
              "      <td>-0.234278</td>\n",
              "      <td>32.070177</td>\n",
              "      <td>0.023570</td>\n",
              "      <td>0</td>\n",
              "      <td>0</td>\n",
              "      <td>0</td>\n",
              "      <td>1</td>\n",
              "      <td>0</td>\n",
              "    </tr>\n",
              "  </tbody>\n",
              "</table>\n",
              "<p>113898 rows × 14 columns</p>\n",
              "</div>\n",
              "      <button class=\"colab-df-convert\" onclick=\"convertToInteractive('df-4fae168a-2d9c-48b3-a637-bdeb592bc2a6')\"\n",
              "              title=\"Convert this dataframe to an interactive table.\"\n",
              "              style=\"display:none;\">\n",
              "        \n",
              "  <svg xmlns=\"http://www.w3.org/2000/svg\" height=\"24px\"viewBox=\"0 0 24 24\"\n",
              "       width=\"24px\">\n",
              "    <path d=\"M0 0h24v24H0V0z\" fill=\"none\"/>\n",
              "    <path d=\"M18.56 5.44l.94 2.06.94-2.06 2.06-.94-2.06-.94-.94-2.06-.94 2.06-2.06.94zm-11 1L8.5 8.5l.94-2.06 2.06-.94-2.06-.94L8.5 2.5l-.94 2.06-2.06.94zm10 10l.94 2.06.94-2.06 2.06-.94-2.06-.94-.94-2.06-.94 2.06-2.06.94z\"/><path d=\"M17.41 7.96l-1.37-1.37c-.4-.4-.92-.59-1.43-.59-.52 0-1.04.2-1.43.59L10.3 9.45l-7.72 7.72c-.78.78-.78 2.05 0 2.83L4 21.41c.39.39.9.59 1.41.59.51 0 1.02-.2 1.41-.59l7.78-7.78 2.81-2.81c.8-.78.8-2.07 0-2.86zM5.41 20L4 18.59l7.72-7.72 1.47 1.35L5.41 20z\"/>\n",
              "  </svg>\n",
              "      </button>\n",
              "      \n",
              "  <style>\n",
              "    .colab-df-container {\n",
              "      display:flex;\n",
              "      flex-wrap:wrap;\n",
              "      gap: 12px;\n",
              "    }\n",
              "\n",
              "    .colab-df-convert {\n",
              "      background-color: #E8F0FE;\n",
              "      border: none;\n",
              "      border-radius: 50%;\n",
              "      cursor: pointer;\n",
              "      display: none;\n",
              "      fill: #1967D2;\n",
              "      height: 32px;\n",
              "      padding: 0 0 0 0;\n",
              "      width: 32px;\n",
              "    }\n",
              "\n",
              "    .colab-df-convert:hover {\n",
              "      background-color: #E2EBFA;\n",
              "      box-shadow: 0px 1px 2px rgba(60, 64, 67, 0.3), 0px 1px 3px 1px rgba(60, 64, 67, 0.15);\n",
              "      fill: #174EA6;\n",
              "    }\n",
              "\n",
              "    [theme=dark] .colab-df-convert {\n",
              "      background-color: #3B4455;\n",
              "      fill: #D2E3FC;\n",
              "    }\n",
              "\n",
              "    [theme=dark] .colab-df-convert:hover {\n",
              "      background-color: #434B5C;\n",
              "      box-shadow: 0px 1px 3px 1px rgba(0, 0, 0, 0.15);\n",
              "      filter: drop-shadow(0px 1px 2px rgba(0, 0, 0, 0.3));\n",
              "      fill: #FFFFFF;\n",
              "    }\n",
              "  </style>\n",
              "\n",
              "      <script>\n",
              "        const buttonEl =\n",
              "          document.querySelector('#df-4fae168a-2d9c-48b3-a637-bdeb592bc2a6 button.colab-df-convert');\n",
              "        buttonEl.style.display =\n",
              "          google.colab.kernel.accessAllowed ? 'block' : 'none';\n",
              "\n",
              "        async function convertToInteractive(key) {\n",
              "          const element = document.querySelector('#df-4fae168a-2d9c-48b3-a637-bdeb592bc2a6');\n",
              "          const dataTable =\n",
              "            await google.colab.kernel.invokeFunction('convertToInteractive',\n",
              "                                                     [key], {});\n",
              "          if (!dataTable) return;\n",
              "\n",
              "          const docLinkHtml = 'Like what you see? Visit the ' +\n",
              "            '<a target=\"_blank\" href=https://colab.research.google.com/notebooks/data_table.ipynb>data table notebook</a>'\n",
              "            + ' to learn more about interactive tables.';\n",
              "          element.innerHTML = '';\n",
              "          dataTable['output_type'] = 'display_data';\n",
              "          await google.colab.output.renderOutput(dataTable, element);\n",
              "          const docLink = document.createElement('div');\n",
              "          docLink.innerHTML = docLinkHtml;\n",
              "          element.appendChild(docLink);\n",
              "        }\n",
              "      </script>\n",
              "    </div>\n",
              "  </div>\n",
              "  "
            ]
          },
          "metadata": {}
        }
      ]
    },
    {
      "cell_type": "markdown",
      "source": [
        "## Separação correta das variáveis entre features (entrada) x label (saída)"
      ],
      "metadata": {
        "id": "C6KXCiaBQC-u"
      }
    },
    {
      "cell_type": "code",
      "source": [
        "dados2.info()"
      ],
      "metadata": {
        "colab": {
          "base_uri": "https://localhost:8080/"
        },
        "id": "Qz6C8OvfdiZA",
        "outputId": "e0de70d0-c6d3-4458-b0e2-e592f5219041"
      },
      "execution_count": 26,
      "outputs": [
        {
          "output_type": "stream",
          "name": "stdout",
          "text": [
            "<class 'pandas.core.frame.DataFrame'>\n",
            "Int64Index: 113898 entries, 1 to 124683\n",
            "Data columns (total 14 columns):\n",
            " #   Column            Non-Null Count   Dtype  \n",
            "---  ------            --------------   -----  \n",
            " 0   no_speed_bump     113898 non-null  float64\n",
            " 1   acc_x_dashboard   113898 non-null  float64\n",
            " 2   acc_y_dashboard   113898 non-null  float64\n",
            " 3   acc_z_dashboard   113898 non-null  float64\n",
            " 4   gyro_x_dashboard  113898 non-null  float64\n",
            " 5   gyro_y_dashboard  113898 non-null  float64\n",
            " 6   gyro_z_dashboard  113898 non-null  float64\n",
            " 7   temp_dashboard    113898 non-null  float64\n",
            " 8   speed             113898 non-null  float64\n",
            " 9   road_asphalt      113898 non-null  uint8  \n",
            " 10  road_cobblestone  113898 non-null  uint8  \n",
            " 11  road_dirt         113898 non-null  uint8  \n",
            " 12  road_paved        113898 non-null  uint8  \n",
            " 13  road_unpaved      113898 non-null  uint8  \n",
            "dtypes: float64(9), uint8(5)\n",
            "memory usage: 13.3 MB\n"
          ]
        }
      ]
    },
    {
      "cell_type": "code",
      "source": [
        "x = dados2.drop(columns=['no_speed_bump', 'temp_dashboard', 'speed'])\n",
        "y = dados2['speed']\n",
        "\n",
        "x_train, x_test, y_train, y_test = train_test_split(x, y, test_size = 0.2, random_state = 42)"
      ],
      "metadata": {
        "id": "ip1XvR8mdoUD"
      },
      "execution_count": 70,
      "outputs": []
    },
    {
      "cell_type": "code",
      "source": [
        "x.info()"
      ],
      "metadata": {
        "colab": {
          "base_uri": "https://localhost:8080/"
        },
        "id": "WeYJAg_7eHK2",
        "outputId": "31066cbb-9137-48e6-d0a4-75a43a1ffb40"
      },
      "execution_count": 28,
      "outputs": [
        {
          "output_type": "stream",
          "name": "stdout",
          "text": [
            "<class 'pandas.core.frame.DataFrame'>\n",
            "Int64Index: 113898 entries, 1 to 124683\n",
            "Data columns (total 11 columns):\n",
            " #   Column            Non-Null Count   Dtype  \n",
            "---  ------            --------------   -----  \n",
            " 0   acc_x_dashboard   113898 non-null  float64\n",
            " 1   acc_y_dashboard   113898 non-null  float64\n",
            " 2   acc_z_dashboard   113898 non-null  float64\n",
            " 3   gyro_x_dashboard  113898 non-null  float64\n",
            " 4   gyro_y_dashboard  113898 non-null  float64\n",
            " 5   gyro_z_dashboard  113898 non-null  float64\n",
            " 6   road_asphalt      113898 non-null  uint8  \n",
            " 7   road_cobblestone  113898 non-null  uint8  \n",
            " 8   road_dirt         113898 non-null  uint8  \n",
            " 9   road_paved        113898 non-null  uint8  \n",
            " 10  road_unpaved      113898 non-null  uint8  \n",
            "dtypes: float64(6), uint8(5)\n",
            "memory usage: 10.7 MB\n"
          ]
        }
      ]
    },
    {
      "cell_type": "code",
      "source": [
        "print(len(x_train))\n",
        "print(len(y_train))\n",
        "print(len(x_test))\n",
        "print(len(y_test))"
      ],
      "metadata": {
        "colab": {
          "base_uri": "https://localhost:8080/"
        },
        "id": "ORhHqnDmePvA",
        "outputId": "d1ead42a-1e18-419e-8e2f-b1d400254889"
      },
      "execution_count": 29,
      "outputs": [
        {
          "output_type": "stream",
          "name": "stdout",
          "text": [
            "91118\n",
            "91118\n",
            "22780\n",
            "22780\n"
          ]
        }
      ]
    },
    {
      "cell_type": "markdown",
      "source": [
        "## Seleção e treinamento de modelos pertinentes ao problema elencado"
      ],
      "metadata": {
        "id": "Z4ZDyIb5QKpg"
      }
    },
    {
      "cell_type": "code",
      "source": [
        "from sklearn.metrics import mean_squared_error, mean_absolute_error, r2_score\n",
        "from scipy.stats import pearsonr"
      ],
      "metadata": {
        "id": "l0Qt2bZsedqD"
      },
      "execution_count": 30,
      "outputs": []
    },
    {
      "cell_type": "code",
      "source": [
        "from sklearn.neural_network import MLPRegressor # Importando a Rede Neural MLP para Regressão"
      ],
      "metadata": {
        "id": "UIG-vHzRebpq"
      },
      "execution_count": 31,
      "outputs": []
    },
    {
      "cell_type": "code",
      "source": [
        "ml_perceptron = MLPRegressor(solver='lbfgs', # otimizador por métodos quasi-Newton\n",
        "                             tol=1e-5, # Limiar para a otimização (treinamento)\n",
        "                             max_iter=1500, # Limite de iterações durante a otimização (treinamento)\n",
        "                             random_state=42, # (seed) pesos da rede são inicializados aleatoriamente\n",
        "                             hidden_layer_sizes=(10,4), # Quantidade de neuronios por camada oculta #(12,7,3)\n",
        "                             activation='relu') # Função de ativação dos neuronios\n",
        "\n",
        "ml_perceptron.fit(x_train, y_train)"
      ],
      "metadata": {
        "colab": {
          "base_uri": "https://localhost:8080/"
        },
        "id": "ctLH4dW0egEk",
        "outputId": "e2a7b234-91e3-4826-c23c-4a5746a09780"
      },
      "execution_count": 32,
      "outputs": [
        {
          "output_type": "stream",
          "name": "stderr",
          "text": [
            "/usr/local/lib/python3.7/dist-packages/sklearn/neural_network/_multilayer_perceptron.py:549: ConvergenceWarning: lbfgs failed to converge (status=1):\n",
            "STOP: TOTAL NO. of ITERATIONS REACHED LIMIT.\n",
            "\n",
            "Increase the number of iterations (max_iter) or scale the data as shown in:\n",
            "    https://scikit-learn.org/stable/modules/preprocessing.html\n",
            "  self.n_iter_ = _check_optimize_result(\"lbfgs\", opt_res, self.max_iter)\n"
          ]
        },
        {
          "output_type": "execute_result",
          "data": {
            "text/plain": [
              "MLPRegressor(hidden_layer_sizes=(10, 4), max_iter=1500, random_state=42,\n",
              "             solver='lbfgs', tol=1e-05)"
            ]
          },
          "metadata": {},
          "execution_count": 32
        }
      ]
    },
    {
      "cell_type": "markdown",
      "source": [
        "Feedback: Redes Neurais teve uma melhor performance do que o LinearRegression"
      ],
      "metadata": {
        "id": "7FVU39XFezqb"
      }
    },
    {
      "cell_type": "markdown",
      "source": [
        "## Levantar as métricas de desempenho adequadas a técnica escolhida e ao problema modelado"
      ],
      "metadata": {
        "id": "belKsuFuQNuq"
      }
    },
    {
      "cell_type": "markdown",
      "source": [
        "Redes Neurais"
      ],
      "metadata": {
        "id": "S1hcjy15fUEb"
      }
    },
    {
      "cell_type": "code",
      "source": [
        "y_predicoes = ml_perceptron.predict(x_test)"
      ],
      "metadata": {
        "id": "e7z20RFYejaM"
      },
      "execution_count": 33,
      "outputs": []
    },
    {
      "cell_type": "code",
      "source": [
        "MAE = mean_absolute_error(y_true = y_test,      # Gabarito\n",
        "                          y_pred = y_predicoes) # Respostas do algoritmo ao teste realizado\n",
        "print('MAE: ', MAE)"
      ],
      "metadata": {
        "id": "3L9g6g8uKYS3",
        "colab": {
          "base_uri": "https://localhost:8080/"
        },
        "outputId": "ed5bc038-0f79-4982-a434-1c4053249e3a"
      },
      "execution_count": 34,
      "outputs": [
        {
          "output_type": "stream",
          "name": "stdout",
          "text": [
            "MAE:  2.9016758846582107\n"
          ]
        }
      ]
    },
    {
      "cell_type": "code",
      "source": [
        "MSE = mean_squared_error(y_true = y_test,      # Gabarito\n",
        "                         y_pred = y_predicoes) # Respostas do algoritmo ao teste realizado\n",
        "print('MSE: ', MSE)\n",
        "print('raiz MSE: ', MSE**0.5)"
      ],
      "metadata": {
        "id": "BOUMHwTZKYDd",
        "colab": {
          "base_uri": "https://localhost:8080/"
        },
        "outputId": "8eb1f740-14c9-4a7d-ad96-86a0bba342c6"
      },
      "execution_count": 35,
      "outputs": [
        {
          "output_type": "stream",
          "name": "stdout",
          "text": [
            "MSE:  16.046248196976006\n",
            "raiz MSE:  4.005776853118007\n"
          ]
        }
      ]
    },
    {
      "cell_type": "code",
      "source": [
        "R2 = r2_score(y_true = y_test,      # Gabarito\n",
        "              y_pred = y_predicoes) # Respostas do algoritmo ao teste realizado\n",
        "print('R2: ', R2)  # Quanto mais próximos de 1 melhor"
      ],
      "metadata": {
        "id": "4tNFmCHNKgMG",
        "colab": {
          "base_uri": "https://localhost:8080/"
        },
        "outputId": "b352ab0a-f3ae-4155-941a-785b1da1559f"
      },
      "execution_count": 36,
      "outputs": [
        {
          "output_type": "stream",
          "name": "stdout",
          "text": [
            "R2:  0.594715220841754\n"
          ]
        }
      ]
    },
    {
      "cell_type": "code",
      "source": [
        "rho = pearsonr(y_test, y_predicoes)\n",
        "print('\\u03C1:', rho[0]) # Quanto mais próximo de 1, melhor (OBS: apenas neste caso de utilização)"
      ],
      "metadata": {
        "id": "rthJODOgKgJo",
        "colab": {
          "base_uri": "https://localhost:8080/"
        },
        "outputId": "9387899e-14db-434c-9d66-4292461b8c7d"
      },
      "execution_count": 37,
      "outputs": [
        {
          "output_type": "stream",
          "name": "stdout",
          "text": [
            "ρ: 0.7711848135455954\n"
          ]
        }
      ]
    },
    {
      "cell_type": "markdown",
      "source": [
        "LinearRegression"
      ],
      "metadata": {
        "id": "_Zjo1P2mfW5k"
      }
    },
    {
      "cell_type": "code",
      "source": [
        "from sklearn.linear_model import LinearRegression"
      ],
      "metadata": {
        "id": "R8dwcI5mey7M"
      },
      "execution_count": 38,
      "outputs": []
    },
    {
      "cell_type": "code",
      "source": [
        "lr = LinearRegression()\n",
        "\n",
        "lr.fit(x_train,y_train)"
      ],
      "metadata": {
        "colab": {
          "base_uri": "https://localhost:8080/"
        },
        "id": "sACAI1pqfIM-",
        "outputId": "bba5ce2b-6a93-40d0-f434-f793f1e33792"
      },
      "execution_count": 39,
      "outputs": [
        {
          "output_type": "execute_result",
          "data": {
            "text/plain": [
              "LinearRegression()"
            ]
          },
          "metadata": {},
          "execution_count": 39
        }
      ]
    },
    {
      "cell_type": "code",
      "source": [
        "y_predicoes = lr.predict(x_test)"
      ],
      "metadata": {
        "id": "HuQr2UpoffSX"
      },
      "execution_count": 40,
      "outputs": []
    },
    {
      "cell_type": "code",
      "source": [
        "MAE = mean_absolute_error(y_true = y_test,      # Gabarito\n",
        "                          y_pred = y_predicoes) # Respostas do algoritmo ao teste realizado\n",
        "print('MAE: ', MAE)"
      ],
      "metadata": {
        "colab": {
          "base_uri": "https://localhost:8080/"
        },
        "id": "5bOk0taPfnBG",
        "outputId": "a3ed1362-f8ca-40b9-c837-58c1de718e87"
      },
      "execution_count": 41,
      "outputs": [
        {
          "output_type": "stream",
          "name": "stdout",
          "text": [
            "MAE:  4.115541585416945\n"
          ]
        }
      ]
    },
    {
      "cell_type": "code",
      "source": [
        "MSE = mean_squared_error(y_true = y_test,      # Gabarito\n",
        "                         y_pred = y_predicoes) # Respostas do algoritmo ao teste realizado\n",
        "print('MSE: ', MSE)\n",
        "print('raiz MSE: ', MSE**0.5)"
      ],
      "metadata": {
        "colab": {
          "base_uri": "https://localhost:8080/"
        },
        "id": "1mb06cTzforN",
        "outputId": "f5b6a2b4-ea5f-4704-ea09-f2e30e88b006"
      },
      "execution_count": 42,
      "outputs": [
        {
          "output_type": "stream",
          "name": "stdout",
          "text": [
            "MSE:  27.96603085284626\n",
            "raiz MSE:  5.288291865323458\n"
          ]
        }
      ]
    },
    {
      "cell_type": "code",
      "source": [
        "R2 = r2_score(y_true = y_test,      # Gabarito\n",
        "              y_pred = y_predicoes) # Respostas do algoritmo ao teste realizado\n",
        "print('R2: ', R2)  # Quanto mais próximos de 1 melhor"
      ],
      "metadata": {
        "colab": {
          "base_uri": "https://localhost:8080/"
        },
        "id": "UHr8OZSjfq6A",
        "outputId": "cb1aaa4d-3e25-438f-c8d4-f9f427c1764a"
      },
      "execution_count": 43,
      "outputs": [
        {
          "output_type": "stream",
          "name": "stdout",
          "text": [
            "R2:  0.29365378753991367\n"
          ]
        }
      ]
    },
    {
      "cell_type": "code",
      "source": [
        "rho = pearsonr(y_test, y_predicoes)\n",
        "print('\\u03C1:', rho[0]) # Quanto mais próximo de 1, melhor (OBS: apenas neste caso de utilização)"
      ],
      "metadata": {
        "colab": {
          "base_uri": "https://localhost:8080/"
        },
        "id": "kqIKZ79dftce",
        "outputId": "698b326d-a342-4eb2-a7b3-b3ad05360991"
      },
      "execution_count": 44,
      "outputs": [
        {
          "output_type": "stream",
          "name": "stdout",
          "text": [
            "ρ: 0.5419335179139528\n"
          ]
        }
      ]
    },
    {
      "cell_type": "markdown",
      "source": [
        "Random Forest Regressor"
      ],
      "metadata": {
        "id": "kpmrMn3Xt3wC"
      }
    },
    {
      "cell_type": "code",
      "source": [
        "from sklearn.ensemble import RandomForestRegressor"
      ],
      "metadata": {
        "id": "j5idnR-cuV-7"
      },
      "execution_count": 61,
      "outputs": []
    },
    {
      "cell_type": "code",
      "source": [
        "RFR = RandomForestRegressor()\n",
        "RFR.fit(x_train, y_train)\n",
        "y_predicoes = RFR.predict(x_test)"
      ],
      "metadata": {
        "id": "9p1mhBjxuWgQ"
      },
      "execution_count": 63,
      "outputs": []
    },
    {
      "cell_type": "code",
      "source": [
        "y_predicoes = RFR.predict(x_test)"
      ],
      "metadata": {
        "id": "9iU4HDekuhSC"
      },
      "execution_count": 64,
      "outputs": []
    },
    {
      "cell_type": "code",
      "source": [
        "MAE = mean_absolute_error(y_true = y_test,      # Gabarito\n",
        "                          y_pred = y_predicoes) # Respostas do algoritmo ao teste realizado\n",
        "print('MAE: ', MAE)"
      ],
      "metadata": {
        "colab": {
          "base_uri": "https://localhost:8080/"
        },
        "outputId": "57f14094-72a5-4089-a18b-f50ea5ffb687",
        "id": "xG2k9yIKuk9Q"
      },
      "execution_count": 65,
      "outputs": [
        {
          "output_type": "stream",
          "name": "stdout",
          "text": [
            "MAE:  2.2591123092430263\n"
          ]
        }
      ]
    },
    {
      "cell_type": "code",
      "source": [
        "MSE = mean_squared_error(y_true = y_test,      # Gabarito\n",
        "                         y_pred = y_predicoes) # Respostas do algoritmo ao teste realizado\n",
        "print('MSE: ', MSE)\n",
        "print('raiz MSE: ', MSE**0.5)"
      ],
      "metadata": {
        "colab": {
          "base_uri": "https://localhost:8080/"
        },
        "outputId": "2541fcc4-27eb-42fd-f286-46a61c4114c1",
        "id": "ppj3ycjDuo64"
      },
      "execution_count": 66,
      "outputs": [
        {
          "output_type": "stream",
          "name": "stdout",
          "text": [
            "MSE:  10.797745950326831\n",
            "raiz MSE:  3.2859923843987877\n"
          ]
        }
      ]
    },
    {
      "cell_type": "code",
      "source": [
        "R2 = r2_score(y_true = y_test,      # Gabarito\n",
        "              y_pred = y_predicoes) # Respostas do algoritmo ao teste realizado\n",
        "print('R2: ', R2)  # Quanto mais próximos de 1 melhor"
      ],
      "metadata": {
        "colab": {
          "base_uri": "https://localhost:8080/"
        },
        "outputId": "8fdecd33-b120-48e4-f82c-b0802092c23c",
        "id": "Ax8yi_wGurgP"
      },
      "execution_count": 67,
      "outputs": [
        {
          "output_type": "stream",
          "name": "stdout",
          "text": [
            "R2:  0.7272781756105602\n"
          ]
        }
      ]
    },
    {
      "cell_type": "code",
      "source": [
        "rho = pearsonr(y_test, y_predicoes)\n",
        "print('\\u03C1:', rho[0]) # Quanto mais próximo de 1, melhor (OBS: apenas neste caso de utilização)"
      ],
      "metadata": {
        "colab": {
          "base_uri": "https://localhost:8080/"
        },
        "outputId": "9da983fa-1e04-4e70-d847-78e1eaf43215",
        "id": "N6olelxGus3x"
      },
      "execution_count": 68,
      "outputs": [
        {
          "output_type": "stream",
          "name": "stdout",
          "text": [
            "ρ: 0.8528185845730966\n"
          ]
        }
      ]
    },
    {
      "cell_type": "markdown",
      "source": [
        "DecisionTreeRegressor"
      ],
      "metadata": {
        "id": "osshiHgCwLn2"
      }
    },
    {
      "cell_type": "code",
      "source": [
        "from sklearn.tree import DecisionTreeRegressor"
      ],
      "metadata": {
        "id": "l0cQd5abwdVq"
      },
      "execution_count": 69,
      "outputs": []
    },
    {
      "cell_type": "code",
      "source": [
        "DTR = DecisionTreeRegressor()\n",
        "DTR.fit(x_train, y_train)\n",
        "y_predicoes = DTR.predict(x_test)"
      ],
      "metadata": {
        "id": "9U61HDUdwbbu"
      },
      "execution_count": 71,
      "outputs": []
    },
    {
      "cell_type": "code",
      "source": [
        "y_predicoes = DTR.predict(x_test)"
      ],
      "metadata": {
        "id": "kRDVXFqGwZpi"
      },
      "execution_count": 72,
      "outputs": []
    },
    {
      "cell_type": "code",
      "source": [
        "MAE = mean_absolute_error(y_true = y_test,      # Gabarito\n",
        "                          y_pred = y_predicoes) # Respostas do algoritmo ao teste realizado\n",
        "print('MAE: ', MAE)"
      ],
      "metadata": {
        "colab": {
          "base_uri": "https://localhost:8080/"
        },
        "outputId": "f2e233db-610c-4713-9f6d-1a105042ddc4",
        "id": "u1mXMhNIwTH4"
      },
      "execution_count": 73,
      "outputs": [
        {
          "output_type": "stream",
          "name": "stdout",
          "text": [
            "MAE:  2.912465302564098\n"
          ]
        }
      ]
    },
    {
      "cell_type": "code",
      "source": [
        "MSE = mean_squared_error(y_true = y_test,      # Gabarito\n",
        "                         y_pred = y_predicoes) # Respostas do algoritmo ao teste realizado\n",
        "print('MSE: ', MSE)\n",
        "print('raiz MSE: ', MSE**0.5)"
      ],
      "metadata": {
        "colab": {
          "base_uri": "https://localhost:8080/"
        },
        "outputId": "912625bb-544d-4234-b19a-187319b84f11",
        "id": "GsvfLA-owUmZ"
      },
      "execution_count": 74,
      "outputs": [
        {
          "output_type": "stream",
          "name": "stdout",
          "text": [
            "MSE:  21.262550614167907\n",
            "raiz MSE:  4.611133332941903\n"
          ]
        }
      ]
    },
    {
      "cell_type": "code",
      "source": [
        "R2 = r2_score(y_true = y_test,      # Gabarito\n",
        "              y_pred = y_predicoes) # Respostas do algoritmo ao teste realizado\n",
        "print('R2: ', R2)  # Quanto mais próximos de 1 melhor"
      ],
      "metadata": {
        "colab": {
          "base_uri": "https://localhost:8080/"
        },
        "outputId": "0b994963-94f3-4f80-dd3b-dbc4fc9934e8",
        "id": "lofW3EOFwV45"
      },
      "execution_count": 75,
      "outputs": [
        {
          "output_type": "stream",
          "name": "stdout",
          "text": [
            "R2:  0.4629655465738055\n"
          ]
        }
      ]
    },
    {
      "cell_type": "code",
      "source": [
        "rho = pearsonr(y_test, y_predicoes)\n",
        "print('\\u03C1:', rho[0]) # Quanto mais próximo de 1, melhor (OBS: apenas neste caso de utilização)"
      ],
      "metadata": {
        "colab": {
          "base_uri": "https://localhost:8080/"
        },
        "outputId": "4cb780fa-d2ba-4f35-c57c-1f02f0e6c5cc",
        "id": "loJMcHlswXLJ"
      },
      "execution_count": 76,
      "outputs": [
        {
          "output_type": "stream",
          "name": "stdout",
          "text": [
            "ρ: 0.7314400628562806\n"
          ]
        }
      ]
    },
    {
      "cell_type": "markdown",
      "metadata": {
        "id": "8RdLiuYUhqUu"
      },
      "source": [
        "## Capacidade de inferir conclusões a partir de uma análise exploratória e analisar o desempenho de modelos de aprendizado de máquina\n",
        "\n",
        "- As explicações devem ser pertinentes e consistentes com as análises feitas. Será avaliada a argumentação baseada em dados.\n",
        "    - uma interpretação qualitativa da análise exploratória;\n",
        "    - discussão dos outliers observados\n",
        "    - justificativa da escolha da abordagem (por que optaram por \n",
        "regressão/classificação/clusterização?);\n",
        "    - discussão da métrica de erro (a métrica tem um bom valor? Por \n",
        "quê?)"
      ]
    },
    {
      "cell_type": "markdown",
      "source": [
        "## Conclusão 2\n",
        "\n",
        "### Análise exploratória\n",
        "  Analisando os gráficos de boxplot percebemos uma quantidade muito grande de outliers na \"road unpaved\", quando analisamos em conjunto com o \"speed\" e isso pode ser um problema, pois não queremos uma velocidade muito alta nas ruas não pavimentadas, porque isso pode causar danos aos carros.\n",
        "\n",
        "### Discussão dos outliers\n",
        "  Como visto anteriormente existem outliers em \"road unpaved\" que podem nos atrapalhar na hora de colher os dados que queremos com o nosso machine learning e para evitar isso, decidimos por realizar a remoção deles.\n",
        "### Justificativa da escolha\n",
        "  Optamos por um algoritmo de regressão, pois queriamos um retorno de intervalos numéricos e esses intervalos seriam a velocidade do carro nas estradas.\n",
        "### Métrica de erro\n",
        "  Optamos por utilizar 4 algoritmos: LinearRegression, MLPRegressor, RandomForestRegressor e DecisionTreeRegression. Observamos as métricas do primeiro e reparamos que ele não possue métricas muito boas, as velocidades preditas podem ter uma margem de erro de 4 m/s, enquanto que nos outros algoritmos esse valor cai para em média 2 m/s. Isso pode parecer pouco, mas vale ressaltar que 1 m/s = 3,6 km/h. Também vimos que o terceiro algoritmo (RandomForestRegressor) obteve o maior R², e se tivessemos que optar por um algoritmo seria esse."
      ],
      "metadata": {
        "id": "Fiob3nmchrgq"
      }
    }
  ],
  "metadata": {
    "colab": {
      "provenance": [],
      "collapsed_sections": []
    },
    "kernelspec": {
      "display_name": "Python 3 (ipykernel)",
      "language": "python",
      "name": "python3"
    },
    "language_info": {
      "codemirror_mode": {
        "name": "ipython",
        "version": 3
      },
      "file_extension": ".py",
      "mimetype": "text/x-python",
      "name": "python",
      "nbconvert_exporter": "python",
      "pygments_lexer": "ipython3",
      "version": "3.9.7"
    }
  },
  "nbformat": 4,
  "nbformat_minor": 0
}